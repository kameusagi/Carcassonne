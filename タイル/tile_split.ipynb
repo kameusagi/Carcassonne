{
 "cells": [
  {
   "cell_type": "code",
   "execution_count": 5,
   "id": "e3208e5e",
   "metadata": {},
   "outputs": [
    {
     "name": "stdout",
     "output_type": "stream",
     "text": [
      "Processing tile 01...\n",
      "✅ 画像を 5×5 に分割し、保存しました。\n",
      "Processing tile 02...\n",
      "✅ 画像を 5×5 に分割し、保存しました。\n",
      "Processing tile 03...\n",
      "✅ 画像を 5×5 に分割し、保存しました。\n",
      "Processing tile 04...\n",
      "✅ 画像を 5×5 に分割し、保存しました。\n",
      "Processing tile 05...\n",
      "✅ 画像を 5×5 に分割し、保存しました。\n",
      "Processing tile 06...\n",
      "✅ 画像を 5×5 に分割し、保存しました。\n",
      "Processing tile 07...\n",
      "✅ 画像を 5×5 に分割し、保存しました。\n",
      "Processing tile 08...\n",
      "✅ 画像を 5×5 に分割し、保存しました。\n",
      "Processing tile 09...\n",
      "✅ 画像を 5×5 に分割し、保存しました。\n",
      "Processing tile 10...\n",
      "✅ 画像を 5×5 に分割し、保存しました。\n",
      "Processing tile 11...\n",
      "✅ 画像を 5×5 に分割し、保存しました。\n",
      "Processing tile 12...\n",
      "✅ 画像を 5×5 に分割し、保存しました。\n",
      "Processing tile 13...\n",
      "✅ 画像を 5×5 に分割し、保存しました。\n",
      "Processing tile 14...\n",
      "✅ 画像を 5×5 に分割し、保存しました。\n",
      "Processing tile 15...\n",
      "✅ 画像を 5×5 に分割し、保存しました。\n",
      "Processing tile 16...\n",
      "✅ 画像を 5×5 に分割し、保存しました。\n",
      "Processing tile 17...\n",
      "✅ 画像を 5×5 に分割し、保存しました。\n",
      "Processing tile 18...\n",
      "✅ 画像を 5×5 に分割し、保存しました。\n",
      "Processing tile 19...\n",
      "✅ 画像を 5×5 に分割し、保存しました。\n",
      "Processing tile 20...\n",
      "✅ 画像を 5×5 に分割し、保存しました。\n",
      "Processing tile 21...\n",
      "✅ 画像を 5×5 に分割し、保存しました。\n",
      "Processing tile 22...\n",
      "✅ 画像を 5×5 に分割し、保存しました。\n",
      "Processing tile 23...\n",
      "✅ 画像を 5×5 に分割し、保存しました。\n",
      "Processing tile 24...\n",
      "✅ 画像を 5×5 に分割し、保存しました。\n"
     ]
    }
   ],
   "source": [
    "from PIL import Image\n",
    "import os\n",
    "\n",
    "# 入力ファイルと出力フォルダ\n",
    "tile_numbers = [f\"{i:02d}\" for i in range(1, 25)]\n",
    "\n",
    "for num in tile_numbers:\n",
    "    print(f\"Processing tile {num}...\")\n",
    "    input_path = os.path.join(\"./タイルpng\", f\"{num}.png\")\n",
    "    output_dir = os.path.join(\"./セル\", f\"tile{num}\")\n",
    "\n",
    "    # 出力フォルダを作成（存在しない場合）\n",
    "    os.makedirs(output_dir, exist_ok=True)\n",
    "\n",
    "    # 画像を読み込み\n",
    "    img = Image.open(input_path)\n",
    "    width, height = img.size\n",
    "\n",
    "    # 5×5 に分割\n",
    "    tile_rows = 5\n",
    "    tile_cols = 5\n",
    "    tile_width = width // tile_cols\n",
    "    tile_height = height // tile_rows\n",
    "\n",
    "    # タイルごとに切り出して保存\n",
    "    for row in range(tile_rows): # 行ごとにループ\n",
    "        for col in range(tile_cols): # 列ごとにループ\n",
    "            left = col * tile_width\n",
    "            upper = row * tile_height\n",
    "            right = left + tile_width\n",
    "            lower = upper + tile_height\n",
    "            tile = img.crop((left, upper, right, lower))\n",
    "\n",
    "            tile_filename = f\"x_{col}_y_{row}.png\"\n",
    "            # tile_filename = f\"x_{row}_y_{col}.png\"\n",
    "            tile.save(os.path.join(output_dir, tile_filename))\n",
    "\n",
    "    print(\"✅ 画像を 5×5 に分割し、保存しました。\")\n"
   ]
  },
  {
   "cell_type": "code",
   "execution_count": 3,
   "id": "94e42391",
   "metadata": {},
   "outputs": [
    {
     "name": "stdout",
     "output_type": "stream",
     "text": [
      "Processing tile 2_2...\n"
     ]
    }
   ],
   "source": [
    "from PIL import Image\n",
    "import os\n",
    "\n",
    "\n",
    "input_path = os.path.join(\"./タイルpng\", f\"{4:02d}.png\")\n",
    "output_dir = os.path.join(\"./セルpng\", f\"tile{4:02d}\")\n",
    "\n",
    "# 画像を読み込み\n",
    "img = Image.open(input_path)\n",
    "\n",
    "width, height = img.size\n",
    "\n",
    "# 5×5 に分割\n",
    "tile_rows = 5\n",
    "tile_cols = 5\n",
    "tile_width = width // tile_cols\n",
    "tile_height = height // tile_rows\n",
    "\n",
    "# タイルごとに切り出して保存\n",
    "for row in range(tile_rows): # 行ごとにループ\n",
    "    for col in range(tile_cols): # 列ごとにループ\n",
    "        left = col * tile_width\n",
    "        upper = row * tile_height\n",
    "        right = left + tile_width\n",
    "        lower = upper + tile_height\n",
    "        tile = img.crop((left, upper, right, lower))\n",
    "        if row == 2 and col == 2:\n",
    "            print(f\"Processing tile {row}_{col}...\")\n",
    "            tile.show()\n",
    "\n"
   ]
  },
  {
   "cell_type": "code",
   "execution_count": null,
   "id": "6df1cf1e",
   "metadata": {},
   "outputs": [
    {
     "data": {
      "text/plain": [
       "['01',\n",
       " '02',\n",
       " '03',\n",
       " '04',\n",
       " '05',\n",
       " '06',\n",
       " '07',\n",
       " '08',\n",
       " '09',\n",
       " '10',\n",
       " '11',\n",
       " '12',\n",
       " '13',\n",
       " '14',\n",
       " '15',\n",
       " '16',\n",
       " '17',\n",
       " '18',\n",
       " '19',\n",
       " '20',\n",
       " '21',\n",
       " '22',\n",
       " '23',\n",
       " '24']"
      ]
     },
     "execution_count": 4,
     "metadata": {},
     "output_type": "execute_result"
    }
   ],
   "source": []
  }
 ],
 "metadata": {
  "kernelspec": {
   "display_name": "myvenv",
   "language": "python",
   "name": "python3"
  },
  "language_info": {
   "codemirror_mode": {
    "name": "ipython",
    "version": 3
   },
   "file_extension": ".py",
   "mimetype": "text/x-python",
   "name": "python",
   "nbconvert_exporter": "python",
   "pygments_lexer": "ipython3",
   "version": "3.10.0"
  }
 },
 "nbformat": 4,
 "nbformat_minor": 5
}
